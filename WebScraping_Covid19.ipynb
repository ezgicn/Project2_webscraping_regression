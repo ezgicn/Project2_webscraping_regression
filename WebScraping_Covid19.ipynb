{
 "cells": [
  {
   "cell_type": "code",
   "execution_count": null,
   "metadata": {},
   "outputs": [],
   "source": [
    "import urllib.request\n",
    "import pandas as pd\n",
    "import seaborn as sns\n",
    "import numpy as np"
   ]
  },
  {
   "cell_type": "code",
   "execution_count": null,
   "metadata": {},
   "outputs": [],
   "source": [
    "pd.set_option('display.max_rows', None)\n",
    "pd.set_option('display.max_columns', None)\n",
    "url = \"https://covid19bilgi.saglik.gov.tr/tr/haberler/turkiye-deki-gunluk-covid-19-vaka-sayilari.html\"\n",
    "page = urllib.request.urlopen(url)"
   ]
  },
  {
   "cell_type": "code",
   "execution_count": null,
   "metadata": {},
   "outputs": [],
   "source": [
    "from bs4 import BeautifulSoup"
   ]
  },
  {
   "cell_type": "code",
   "execution_count": null,
   "metadata": {},
   "outputs": [],
   "source": [
    "soup = BeautifulSoup(page, \"html.parser\")\n",
    "#print(soup)\n",
    "table=soup.find('table')\n",
    "\n",
    "soup.findAll('tr', limit=None)\n",
    "rows = [row for row in table.find_all('tr')]\n",
    "headers = [th.getText() for th in soup.findAll('tr', limit=None)[0].findAll('th')]\n",
    "headers = headers[0:]\n",
    "print(headers)"
   ]
  },
  {
   "cell_type": "code",
   "execution_count": null,
   "metadata": {},
   "outputs": [],
   "source": [
    "rows = soup.findAll('tr')[1:]\n",
    "case_numbers = [[td.getText() for td in rows[i].findAll('td')]\n",
    "            for i in range(len(rows))]\n",
    "\n",
    "veri = pd.DataFrame(case_numbers, columns = headers)\n",
    "veri.drop(index =[22,53,85, 116], inplace=True)\n",
    "\n",
    "# nwveri=veri['TOPLAM VAKA SAYISI']\n",
    "nwveri=veri['TOPLAM VAKA SAYISI']\n",
    "sns.kdeplot(nwveri)"
   ]
  },
  {
   "cell_type": "code",
   "execution_count": null,
   "metadata": {},
   "outputs": [],
   "source": [
    "nwveri = np.asarray(nwveri).reshape(-1,1)\n",
    "\n",
    "df = pd.DataFrame(nwveri,columns=[\"vaka\"])\n",
    "print(nwveri)\n",
    "print(len(df[\"vaka\"]))\n",
    "\n",
    "for i in range(0,len(df[\"vaka\"])):\n",
    "    df[\"vaka\"][i]=df[\"vaka\"][i].replace(\".\",\"\")\n",
    "\n",
    "df[\"vaka\"]=df[\"vaka\"].astype(int)\n",
    "\n",
    "df.to_csv('C:/Users/EN/DataScienceAcademy/Project2/coviddata.csv',index=False)"
   ]
  }
 ],
 "metadata": {
  "kernelspec": {
   "display_name": "Python 3",
   "language": "python",
   "name": "python3"
  },
  "language_info": {
   "codemirror_mode": {
    "name": "ipython",
    "version": 3
   },
   "file_extension": ".py",
   "mimetype": "text/x-python",
   "name": "python",
   "nbconvert_exporter": "python",
   "pygments_lexer": "ipython3",
   "version": "3.7.6"
  }
 },
 "nbformat": 4,
 "nbformat_minor": 4
}
